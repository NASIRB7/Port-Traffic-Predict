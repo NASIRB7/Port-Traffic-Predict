{
 "cells": [
  {
   "cell_type": "code",
   "execution_count": 1,
   "id": "b68a102c",
   "metadata": {
    "_cell_guid": "b1076dfc-b9ad-4769-8c92-a6c4dae69d19",
    "_uuid": "8f2839f25d086af736a60e9eeb907d3b93b6e0e5",
    "execution": {
     "iopub.execute_input": "2024-03-05T12:02:42.909497Z",
     "iopub.status.busy": "2024-03-05T12:02:42.907815Z",
     "iopub.status.idle": "2024-03-05T12:02:46.569698Z",
     "shell.execute_reply": "2024-03-05T12:02:46.568441Z"
    },
    "papermill": {
     "duration": 3.672735,
     "end_time": "2024-03-05T12:02:46.572758",
     "exception": false,
     "start_time": "2024-03-05T12:02:42.900023",
     "status": "completed"
    },
    "tags": []
   },
   "outputs": [
    {
     "name": "stdout",
     "output_type": "stream",
     "text": [
      "/kaggle/input/port-traffic-q3-2023/Port traffic Q3 2023.CSV\n"
     ]
    },
    {
     "data": {
      "text/html": [
       "<div>\n",
       "<style scoped>\n",
       "    .dataframe tbody tr th:only-of-type {\n",
       "        vertical-align: middle;\n",
       "    }\n",
       "\n",
       "    .dataframe tbody tr th {\n",
       "        vertical-align: top;\n",
       "    }\n",
       "\n",
       "    .dataframe thead th {\n",
       "        text-align: right;\n",
       "    }\n",
       "</style>\n",
       "<table border=\"1\" class=\"dataframe\">\n",
       "  <thead>\n",
       "    <tr style=\"text-align: right;\">\n",
       "      <th></th>\n",
       "      <th>اسم المنفذ</th>\n",
       "      <th>التاريخ</th>\n",
       "      <th>اليوم</th>\n",
       "      <th>الساعة</th>\n",
       "      <th>الاتجاه</th>\n",
       "      <th>عدد الحركات</th>\n",
       "    </tr>\n",
       "  </thead>\n",
       "  <tbody>\n",
       "    <tr>\n",
       "      <th>0</th>\n",
       "      <td>البطحاء</td>\n",
       "      <td>2019-01-01</td>\n",
       "      <td>الثلاثاء</td>\n",
       "      <td>0</td>\n",
       "      <td>قدوم</td>\n",
       "      <td>8</td>\n",
       "    </tr>\n",
       "    <tr>\n",
       "      <th>1</th>\n",
       "      <td>البطحاء</td>\n",
       "      <td>2019-01-01</td>\n",
       "      <td>الثلاثاء</td>\n",
       "      <td>1</td>\n",
       "      <td>قدوم</td>\n",
       "      <td>24</td>\n",
       "    </tr>\n",
       "    <tr>\n",
       "      <th>2</th>\n",
       "      <td>البطحاء</td>\n",
       "      <td>2019-01-01</td>\n",
       "      <td>الثلاثاء</td>\n",
       "      <td>2</td>\n",
       "      <td>قدوم</td>\n",
       "      <td>46</td>\n",
       "    </tr>\n",
       "    <tr>\n",
       "      <th>3</th>\n",
       "      <td>البطحاء</td>\n",
       "      <td>2019-01-01</td>\n",
       "      <td>الثلاثاء</td>\n",
       "      <td>3</td>\n",
       "      <td>قدوم</td>\n",
       "      <td>7</td>\n",
       "    </tr>\n",
       "    <tr>\n",
       "      <th>4</th>\n",
       "      <td>البطحاء</td>\n",
       "      <td>2019-01-01</td>\n",
       "      <td>الثلاثاء</td>\n",
       "      <td>4</td>\n",
       "      <td>قدوم</td>\n",
       "      <td>3</td>\n",
       "    </tr>\n",
       "    <tr>\n",
       "      <th>5</th>\n",
       "      <td>البطحاء</td>\n",
       "      <td>2019-01-01</td>\n",
       "      <td>الثلاثاء</td>\n",
       "      <td>7</td>\n",
       "      <td>قدوم</td>\n",
       "      <td>100</td>\n",
       "    </tr>\n",
       "    <tr>\n",
       "      <th>6</th>\n",
       "      <td>البطحاء</td>\n",
       "      <td>2019-01-01</td>\n",
       "      <td>الثلاثاء</td>\n",
       "      <td>7</td>\n",
       "      <td>مغادرة</td>\n",
       "      <td>56</td>\n",
       "    </tr>\n",
       "    <tr>\n",
       "      <th>7</th>\n",
       "      <td>البطحاء</td>\n",
       "      <td>2019-01-01</td>\n",
       "      <td>الثلاثاء</td>\n",
       "      <td>8</td>\n",
       "      <td>قدوم</td>\n",
       "      <td>159</td>\n",
       "    </tr>\n",
       "    <tr>\n",
       "      <th>8</th>\n",
       "      <td>البطحاء</td>\n",
       "      <td>2019-01-01</td>\n",
       "      <td>الثلاثاء</td>\n",
       "      <td>8</td>\n",
       "      <td>مغادرة</td>\n",
       "      <td>138</td>\n",
       "    </tr>\n",
       "    <tr>\n",
       "      <th>9</th>\n",
       "      <td>البطحاء</td>\n",
       "      <td>2019-01-01</td>\n",
       "      <td>الثلاثاء</td>\n",
       "      <td>9</td>\n",
       "      <td>قدوم</td>\n",
       "      <td>132</td>\n",
       "    </tr>\n",
       "  </tbody>\n",
       "</table>\n",
       "</div>"
      ],
      "text/plain": [
       "  اسم المنفذ     التاريخ     اليوم  الساعة الاتجاه  عدد الحركات\n",
       "0    البطحاء  2019-01-01  الثلاثاء       0    قدوم            8\n",
       "1    البطحاء  2019-01-01  الثلاثاء       1    قدوم           24\n",
       "2    البطحاء  2019-01-01  الثلاثاء       2    قدوم           46\n",
       "3    البطحاء  2019-01-01  الثلاثاء       3    قدوم            7\n",
       "4    البطحاء  2019-01-01  الثلاثاء       4    قدوم            3\n",
       "5    البطحاء  2019-01-01  الثلاثاء       7    قدوم          100\n",
       "6    البطحاء  2019-01-01  الثلاثاء       7  مغادرة           56\n",
       "7    البطحاء  2019-01-01  الثلاثاء       8    قدوم          159\n",
       "8    البطحاء  2019-01-01  الثلاثاء       8  مغادرة          138\n",
       "9    البطحاء  2019-01-01  الثلاثاء       9    قدوم          132"
      ]
     },
     "execution_count": 1,
     "metadata": {},
     "output_type": "execute_result"
    }
   ],
   "source": [
    "import os\n",
    "for dirname, _, filenames in os.walk('/kaggle/input'):\n",
    "    for filename in filenames:\n",
    "        print(os.path.join(dirname, filename))\n",
    "\n",
    "import pandas as pd\n",
    "from sklearn.model_selection import train_test_split\n",
    "from sklearn.linear_model import LinearRegression\n",
    "from sklearn.metrics import mean_absolute_error\n",
    "# Read the CSV file into a DataFrame\n",
    "df = pd.read_csv('/kaggle/input/port-traffic-q3-2023/Port traffic Q3 2023.CSV', encoding='utf-8')\n",
    "df.head(10)"
   ]
  },
  {
   "cell_type": "code",
   "execution_count": 2,
   "id": "2d9219a8",
   "metadata": {
    "execution": {
     "iopub.execute_input": "2024-03-05T12:02:46.585283Z",
     "iopub.status.busy": "2024-03-05T12:02:46.584514Z",
     "iopub.status.idle": "2024-03-05T12:02:46.713941Z",
     "shell.execute_reply": "2024-03-05T12:02:46.712372Z"
    },
    "papermill": {
     "duration": 0.138791,
     "end_time": "2024-03-05T12:02:46.716870",
     "exception": false,
     "start_time": "2024-03-05T12:02:46.578079",
     "status": "completed"
    },
    "tags": []
   },
   "outputs": [],
   "source": [
    "# Preprocess the datetime columns\n",
    "df['الساعة'] = pd.to_datetime(df['الساعة'], format='%H').dt.hour\n",
    "df['التاريخ'] = pd.to_datetime(df['التاريخ'])\n",
    "df['timestamp'] = df['التاريخ'].astype(int) // 10**9"
   ]
  },
  {
   "cell_type": "code",
   "execution_count": 3,
   "id": "cdd2ce1c",
   "metadata": {
    "execution": {
     "iopub.execute_input": "2024-03-05T12:02:46.728628Z",
     "iopub.status.busy": "2024-03-05T12:02:46.728202Z",
     "iopub.status.idle": "2024-03-05T12:02:46.733585Z",
     "shell.execute_reply": "2024-03-05T12:02:46.732303Z"
    },
    "papermill": {
     "duration": 0.014124,
     "end_time": "2024-03-05T12:02:46.736080",
     "exception": false,
     "start_time": "2024-03-05T12:02:46.721956",
     "status": "completed"
    },
    "tags": []
   },
   "outputs": [],
   "source": [
    "# Define features and target variable\n",
    "features = ['timestamp', 'عدد الحركات', 'اسم المنفذ']\n",
    "target = 'الساعة'"
   ]
  },
  {
   "cell_type": "code",
   "execution_count": 4,
   "id": "8c4b2b7d",
   "metadata": {
    "execution": {
     "iopub.execute_input": "2024-03-05T12:02:46.747982Z",
     "iopub.status.busy": "2024-03-05T12:02:46.747543Z",
     "iopub.status.idle": "2024-03-05T12:02:46.908047Z",
     "shell.execute_reply": "2024-03-05T12:02:46.906488Z"
    },
    "papermill": {
     "duration": 0.169957,
     "end_time": "2024-03-05T12:02:46.911070",
     "exception": false,
     "start_time": "2024-03-05T12:02:46.741113",
     "status": "completed"
    },
    "tags": []
   },
   "outputs": [],
   "source": [
    "# Split the data into training and testing sets\n",
    "X = df[features]\n",
    "y = df[target]\n",
    "X = pd.get_dummies(X, columns=['اسم المنفذ'], prefix='منفذ')\n",
    "X_train, X_test, y_train, y_test = train_test_split(X, y, test_size=0.2, random_state=42)"
   ]
  },
  {
   "cell_type": "code",
   "execution_count": 5,
   "id": "8eba7e65",
   "metadata": {
    "execution": {
     "iopub.execute_input": "2024-03-05T12:02:46.923067Z",
     "iopub.status.busy": "2024-03-05T12:02:46.922596Z",
     "iopub.status.idle": "2024-03-05T12:02:47.268423Z",
     "shell.execute_reply": "2024-03-05T12:02:47.266848Z"
    },
    "papermill": {
     "duration": 0.358581,
     "end_time": "2024-03-05T12:02:47.274737",
     "exception": false,
     "start_time": "2024-03-05T12:02:46.916156",
     "status": "completed"
    },
    "tags": []
   },
   "outputs": [
    {
     "data": {
      "text/html": [
       "<style>#sk-container-id-1 {color: black;background-color: white;}#sk-container-id-1 pre{padding: 0;}#sk-container-id-1 div.sk-toggleable {background-color: white;}#sk-container-id-1 label.sk-toggleable__label {cursor: pointer;display: block;width: 100%;margin-bottom: 0;padding: 0.3em;box-sizing: border-box;text-align: center;}#sk-container-id-1 label.sk-toggleable__label-arrow:before {content: \"▸\";float: left;margin-right: 0.25em;color: #696969;}#sk-container-id-1 label.sk-toggleable__label-arrow:hover:before {color: black;}#sk-container-id-1 div.sk-estimator:hover label.sk-toggleable__label-arrow:before {color: black;}#sk-container-id-1 div.sk-toggleable__content {max-height: 0;max-width: 0;overflow: hidden;text-align: left;background-color: #f0f8ff;}#sk-container-id-1 div.sk-toggleable__content pre {margin: 0.2em;color: black;border-radius: 0.25em;background-color: #f0f8ff;}#sk-container-id-1 input.sk-toggleable__control:checked~div.sk-toggleable__content {max-height: 200px;max-width: 100%;overflow: auto;}#sk-container-id-1 input.sk-toggleable__control:checked~label.sk-toggleable__label-arrow:before {content: \"▾\";}#sk-container-id-1 div.sk-estimator input.sk-toggleable__control:checked~label.sk-toggleable__label {background-color: #d4ebff;}#sk-container-id-1 div.sk-label input.sk-toggleable__control:checked~label.sk-toggleable__label {background-color: #d4ebff;}#sk-container-id-1 input.sk-hidden--visually {border: 0;clip: rect(1px 1px 1px 1px);clip: rect(1px, 1px, 1px, 1px);height: 1px;margin: -1px;overflow: hidden;padding: 0;position: absolute;width: 1px;}#sk-container-id-1 div.sk-estimator {font-family: monospace;background-color: #f0f8ff;border: 1px dotted black;border-radius: 0.25em;box-sizing: border-box;margin-bottom: 0.5em;}#sk-container-id-1 div.sk-estimator:hover {background-color: #d4ebff;}#sk-container-id-1 div.sk-parallel-item::after {content: \"\";width: 100%;border-bottom: 1px solid gray;flex-grow: 1;}#sk-container-id-1 div.sk-label:hover label.sk-toggleable__label {background-color: #d4ebff;}#sk-container-id-1 div.sk-serial::before {content: \"\";position: absolute;border-left: 1px solid gray;box-sizing: border-box;top: 0;bottom: 0;left: 50%;z-index: 0;}#sk-container-id-1 div.sk-serial {display: flex;flex-direction: column;align-items: center;background-color: white;padding-right: 0.2em;padding-left: 0.2em;position: relative;}#sk-container-id-1 div.sk-item {position: relative;z-index: 1;}#sk-container-id-1 div.sk-parallel {display: flex;align-items: stretch;justify-content: center;background-color: white;position: relative;}#sk-container-id-1 div.sk-item::before, #sk-container-id-1 div.sk-parallel-item::before {content: \"\";position: absolute;border-left: 1px solid gray;box-sizing: border-box;top: 0;bottom: 0;left: 50%;z-index: -1;}#sk-container-id-1 div.sk-parallel-item {display: flex;flex-direction: column;z-index: 1;position: relative;background-color: white;}#sk-container-id-1 div.sk-parallel-item:first-child::after {align-self: flex-end;width: 50%;}#sk-container-id-1 div.sk-parallel-item:last-child::after {align-self: flex-start;width: 50%;}#sk-container-id-1 div.sk-parallel-item:only-child::after {width: 0;}#sk-container-id-1 div.sk-dashed-wrapped {border: 1px dashed gray;margin: 0 0.4em 0.5em 0.4em;box-sizing: border-box;padding-bottom: 0.4em;background-color: white;}#sk-container-id-1 div.sk-label label {font-family: monospace;font-weight: bold;display: inline-block;line-height: 1.2em;}#sk-container-id-1 div.sk-label-container {text-align: center;}#sk-container-id-1 div.sk-container {/* jupyter's `normalize.less` sets `[hidden] { display: none; }` but bootstrap.min.css set `[hidden] { display: none !important; }` so we also need the `!important` here to be able to override the default hidden behavior on the sphinx rendered scikit-learn.org. See: https://github.com/scikit-learn/scikit-learn/issues/21755 */display: inline-block !important;position: relative;}#sk-container-id-1 div.sk-text-repr-fallback {display: none;}</style><div id=\"sk-container-id-1\" class=\"sk-top-container\"><div class=\"sk-text-repr-fallback\"><pre>LinearRegression()</pre><b>In a Jupyter environment, please rerun this cell to show the HTML representation or trust the notebook. <br />On GitHub, the HTML representation is unable to render, please try loading this page with nbviewer.org.</b></div><div class=\"sk-container\" hidden><div class=\"sk-item\"><div class=\"sk-estimator sk-toggleable\"><input class=\"sk-toggleable__control sk-hidden--visually\" id=\"sk-estimator-id-1\" type=\"checkbox\" checked><label for=\"sk-estimator-id-1\" class=\"sk-toggleable__label sk-toggleable__label-arrow\">LinearRegression</label><div class=\"sk-toggleable__content\"><pre>LinearRegression()</pre></div></div></div></div></div>"
      ],
      "text/plain": [
       "LinearRegression()"
      ]
     },
     "execution_count": 5,
     "metadata": {},
     "output_type": "execute_result"
    }
   ],
   "source": [
    "# Train a linear regression model\n",
    "model = LinearRegression()\n",
    "model.fit(X_train, y_train)"
   ]
  },
  {
   "cell_type": "code",
   "execution_count": 6,
   "id": "bb7c3536",
   "metadata": {
    "execution": {
     "iopub.execute_input": "2024-03-05T12:02:47.300504Z",
     "iopub.status.busy": "2024-03-05T12:02:47.299738Z",
     "iopub.status.idle": "2024-03-05T12:02:47.336052Z",
     "shell.execute_reply": "2024-03-05T12:02:47.334346Z"
    },
    "papermill": {
     "duration": 0.055867,
     "end_time": "2024-03-05T12:02:47.341379",
     "exception": false,
     "start_time": "2024-03-05T12:02:47.285512",
     "status": "completed"
    },
    "tags": []
   },
   "outputs": [
    {
     "name": "stdout",
     "output_type": "stream",
     "text": [
      "Mean Absolute Error: 4.895902011449463\n"
     ]
    }
   ],
   "source": [
    "# Evaluate the model on the test set\n",
    "y_pred = model.predict(X_test)\n",
    "mae = mean_absolute_error(y_test, y_pred)\n",
    "print(f'Mean Absolute Error: {mae}')"
   ]
  },
  {
   "cell_type": "code",
   "execution_count": 7,
   "id": "aeee2f0d",
   "metadata": {
    "execution": {
     "iopub.execute_input": "2024-03-05T12:02:47.367664Z",
     "iopub.status.busy": "2024-03-05T12:02:47.366751Z",
     "iopub.status.idle": "2024-03-05T12:02:47.375124Z",
     "shell.execute_reply": "2024-03-05T12:02:47.373356Z"
    },
    "papermill": {
     "duration": 0.028438,
     "end_time": "2024-03-05T12:02:47.381501",
     "exception": false,
     "start_time": "2024-03-05T12:02:47.353063",
     "status": "completed"
    },
    "tags": []
   },
   "outputs": [],
   "source": [
    "# Get user input for the new record - when you want to get the input drom the user just remove #\n",
    "#new_timestamp = pd.to_datetime(input('Enter the timestamp (YYYY-MM-DD): ')).timestamp()\n",
    "#new_movement_count = int(input('Enter the movement count: '))\n",
    "#new_port_name = input('Enter the port name: ')\n",
    "#new_record = pd.DataFrame([[new_timestamp, new_movement_count, new_port_name]], columns=['timestamp', 'عدد الحركات', 'اسم المنفذ'])\n"
   ]
  },
  {
   "cell_type": "code",
   "execution_count": 8,
   "id": "92c896fe",
   "metadata": {
    "execution": {
     "iopub.execute_input": "2024-03-05T12:02:47.409440Z",
     "iopub.status.busy": "2024-03-05T12:02:47.408198Z",
     "iopub.status.idle": "2024-03-05T12:02:47.427058Z",
     "shell.execute_reply": "2024-03-05T12:02:47.425208Z"
    },
    "papermill": {
     "duration": 0.038092,
     "end_time": "2024-03-05T12:02:47.432325",
     "exception": false,
     "start_time": "2024-03-05T12:02:47.394233",
     "status": "completed"
    },
    "tags": []
   },
   "outputs": [],
   "source": [
    "# Create a DataFrame for the new record and encode categorical features\n",
    "new_record = pd.DataFrame([[pd.to_datetime('2022-02-28').timestamp(), 44, 'جسر الملك فهد']], columns=['timestamp', 'عدد الحركات', 'اسم المنفذ'])\n",
    "new_record_encoded = pd.get_dummies(new_record, columns=['اسم المنفذ'], prefix='منفذ')"
   ]
  },
  {
   "cell_type": "code",
   "execution_count": 9,
   "id": "b5c974f3",
   "metadata": {
    "execution": {
     "iopub.execute_input": "2024-03-05T12:02:47.451350Z",
     "iopub.status.busy": "2024-03-05T12:02:47.450801Z",
     "iopub.status.idle": "2024-03-05T12:02:47.462134Z",
     "shell.execute_reply": "2024-03-05T12:02:47.460735Z"
    },
    "papermill": {
     "duration": 0.021326,
     "end_time": "2024-03-05T12:02:47.464720",
     "exception": false,
     "start_time": "2024-03-05T12:02:47.443394",
     "status": "completed"
    },
    "tags": []
   },
   "outputs": [],
   "source": [
    "# Ensure the new record has the same columns as the training set\n",
    "missing_columns = set(X_train.columns) - set(new_record_encoded.columns)\n",
    "for column in missing_columns:\n",
    "    new_record_encoded[column] = 0"
   ]
  },
  {
   "cell_type": "code",
   "execution_count": 10,
   "id": "b6e8cd58",
   "metadata": {
    "execution": {
     "iopub.execute_input": "2024-03-05T12:02:47.477168Z",
     "iopub.status.busy": "2024-03-05T12:02:47.476726Z",
     "iopub.status.idle": "2024-03-05T12:02:47.486533Z",
     "shell.execute_reply": "2024-03-05T12:02:47.485658Z"
    },
    "papermill": {
     "duration": 0.01987,
     "end_time": "2024-03-05T12:02:47.489931",
     "exception": false,
     "start_time": "2024-03-05T12:02:47.470061",
     "status": "completed"
    },
    "tags": []
   },
   "outputs": [
    {
     "name": "stdout",
     "output_type": "stream",
     "text": [
      "Predicted Hour: 12.035243916960809\n"
     ]
    }
   ],
   "source": [
    "# Make predictions for the new record\n",
    "predicted_hour = model.predict(new_record_encoded[X_train.columns])\n",
    "print(f'Predicted Hour: {predicted_hour[0]}')"
   ]
  }
 ],
 "metadata": {
  "kaggle": {
   "accelerator": "none",
   "dataSources": [
    {
     "datasetId": 4536585,
     "sourceId": 7757831,
     "sourceType": "datasetVersion"
    }
   ],
   "dockerImageVersionId": 30664,
   "isGpuEnabled": false,
   "isInternetEnabled": true,
   "language": "python",
   "sourceType": "notebook"
  },
  "kernelspec": {
   "display_name": "Python 3",
   "language": "python",
   "name": "python3"
  },
  "language_info": {
   "codemirror_mode": {
    "name": "ipython",
    "version": 3
   },
   "file_extension": ".py",
   "mimetype": "text/x-python",
   "name": "python",
   "nbconvert_exporter": "python",
   "pygments_lexer": "ipython3",
   "version": "3.10.13"
  },
  "papermill": {
   "default_parameters": {},
   "duration": 8.554519,
   "end_time": "2024-03-05T12:02:48.217060",
   "environment_variables": {},
   "exception": null,
   "input_path": "__notebook__.ipynb",
   "output_path": "__notebook__.ipynb",
   "parameters": {},
   "start_time": "2024-03-05T12:02:39.662541",
   "version": "2.5.0"
  }
 },
 "nbformat": 4,
 "nbformat_minor": 5
}
